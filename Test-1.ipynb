{
 "cells": [
  {
   "cell_type": "markdown",
   "id": "e84a0e59",
   "metadata": {},
   "source": [
    "# 1. Which is the correct operator for power(xy)?\n",
    "a) X^y\n",
    "b) X**y\n",
    "c) X^^y\n",
    "d) None of the mentioned\n",
    "\n",
    "\n",
    "Answer:b-x**y if x in lowercase otherwise option d is answer"
   ]
  },
  {
   "cell_type": "markdown",
   "id": "24b7c775",
   "metadata": {},
   "source": [
    "# 2. What is the order of precedence in python?\n",
    "\n",
    "i) Parentheses\n",
    "ii) Exponential\n",
    "iii) Multiplication\n",
    "iv) Division\n",
    "v) Addition\n",
    "vi) Subtraction\n",
    "\n",
    "a) i,ii,iii,iv,v,vi\n",
    "b) ii,i,iii,iv,v,vi\n",
    "c) ii,i,iv,iii,v,vi\n",
    "d) i,ii,iii,iv,vi,v\n",
    "\n",
    "Answer: a-i,ii,iii,iv,v,vi"
   ]
  },
  {
   "cell_type": "markdown",
   "id": "1fe6eac7",
   "metadata": {},
   "source": [
    "# 3.What is the answer to this expression, 22 % 3 is?\n",
    "a) 7\n",
    "b) 1\n",
    "c) 0\n",
    "d) 5\n",
    "\n",
    "Answer: b-1"
   ]
  },
  {
   "cell_type": "markdown",
   "id": "610d82d0",
   "metadata": {},
   "source": [
    "# 4) How many keywords present in the python programming language?\n",
    "\n",
    "a)32\n",
    "b)61\n",
    "c)33\n",
    "d)27\n",
    "\n",
    "Answer: c-33keywords"
   ]
  },
  {
   "cell_type": "markdown",
   "id": "a2aae24e",
   "metadata": {},
   "source": [
    "# 5) What is the type of int?\n",
    "a) Boolean\n",
    "b) Integer\n",
    "c) Float\n",
    "d) Complex\n",
    "\n",
    "Answer: b-integer"
   ]
  },
  {
   "cell_type": "markdown",
   "id": "772ca96d",
   "metadata": {},
   "source": [
    "# 6.What is the average value of the following Python code snippet?\n",
    "\n",
    ">>>grade1 = 80\n",
    ">>>grade2 = 90\n",
    ">>>average = (grade1 + grade2) / 2\n",
    "\n",
    "a) 85.0\n",
    "b) 85.1\n",
    "c) 95.0\n",
    "d) 95.1\n",
    "\n",
    "Answer:a-85.0"
   ]
  },
  {
   "cell_type": "markdown",
   "id": "32a1041c",
   "metadata": {},
   "source": [
    "# 7. What is the output of this expression, 3*1**3?\n",
    "a) 27\n",
    "b) 9\n",
    "c) 3\n",
    "d) 1\n",
    "\n",
    "Answer: c-3\n",
    "\n"
   ]
  },
  {
   "cell_type": "markdown",
   "id": "01d05aa0",
   "metadata": {},
   "source": [
    "# 8.Which one of the following has the highest precedence in the expression?\n",
    "a) Exponential\n",
    "b) Addition\n",
    "c) Multiplication\n",
    "d) Parentheses\n",
    "\n",
    "Answer: d-Parentheses"
   ]
  },
  {
   "cell_type": "markdown",
   "id": "5f54bd36",
   "metadata": {},
   "source": [
    "# 10.Which of the following cannot be a variable?\n",
    "\n",
    "a) __init__\n",
    "b) in\n",
    "c) it\n",
    "d) on\n",
    "\n",
    "Answer: c-it\n",
    "\n",
    "\n",
    "\n"
   ]
  },
  {
   "cell_type": "markdown",
   "id": "5c5d0ea9",
   "metadata": {},
   "source": [
    "# 10.Which of the following cannot be a variable?\n",
    "\n",
    "a) init b) in c) it d) on\n",
    "\n",
    "Answer: c-it"
   ]
  },
  {
   "cell_type": "markdown",
   "id": "40c986b0",
   "metadata": {},
   "source": [
    "# 11.What will be the output of the following Python code snippet?\n",
    "\n",
    "not(3>4) not(1&1)\n",
    "\n",
    "a) True True b) True False c) False True d) False False\n",
    "\n",
    "Answer: b-True, False"
   ]
  },
  {
   "cell_type": "markdown",
   "id": "28b4db23",
   "metadata": {},
   "source": [
    "# 12.Which of these in not a core data type? \n",
    "a) Lists b) Dictionary c) Tuples d) Class\n",
    "\n",
    "Answer: d-class"
   ]
  },
  {
   "cell_type": "markdown",
   "id": "648a9e2a",
   "metadata": {},
   "source": [
    "# 13.What is the value of the following expression?\n",
    "\n",
    "float(22//3+3/3)\n",
    "\n",
    "a) 8 b) 8.0 c) 8.3 d) 8.33\n",
    "\n",
    "Answer: b-8.0"
   ]
  },
  {
   "cell_type": "markdown",
   "id": "03d3b6c6",
   "metadata": {},
   "source": [
    "# 14) Study the following program:\n",
    "\n",
    "word = \"javacourse\"\n",
    "print(*word)\n",
    "What will be the output of this program?\n",
    "\n",
    "a)javacourse b)j a v a c o u r s e c)*word d)SyntaxError: invalid syntax\n",
    "\n",
    "Answer: b-j a v a c o u r s e"
   ]
  },
  {
   "cell_type": "markdown",
   "id": "2a5574a0",
   "metadata": {},
   "source": [
    "# 15.All keywords in Python are in _____ \n",
    "a) lower case b) UPPER CASE c) Capitalized d) None of the mentioned\n",
    "\n",
    "Answer: d-none of the mentioned because there are 3 keywords whose starting letter is in uppercase"
   ]
  },
  {
   "cell_type": "markdown",
   "id": "9f0a281b",
   "metadata": {},
   "source": [
    "# 16.In the Python statement x = a + 5 – b:\n",
    "\n",
    "a and b are ____ a + 5 - b is ____\n",
    "\n",
    "A)terms, a group\n",
    "\n",
    "B)operators, a statement\n",
    "\n",
    "C)operands, an expression\n",
    "\n",
    "D)operands, an equation\n",
    "\n",
    "Answer: c-operands, an expression"
   ]
  },
  {
   "cell_type": "markdown",
   "id": "6b2b1265",
   "metadata": {},
   "source": [
    "#                        PRACTICAL PROBLEMS"
   ]
  },
  {
   "cell_type": "markdown",
   "id": "7dc28a8b",
   "metadata": {},
   "source": [
    "# 1.what is python? & what are its features and importance\n",
    "\n",
    "a.Python is an high level, interpreted,object oriented programming language. In these debugging is easy when compared to other languages.\n",
    "b.And it is a dynamic language\n",
    "c.And it is a multi paradigm language\n",
    "\n",
    "Features and importance:\n",
    "1)multi paradigm language\n",
    "2)simple and easy to learn\n",
    "3)portable language"
   ]
  },
  {
   "cell_type": "markdown",
   "id": "31a21f89",
   "metadata": {},
   "source": [
    "# 2.what is a meant by a website ?define it with an example\n",
    "\n",
    "Website is nothing but a development of webpages connected by a domain.\n",
    "\n",
    "examples: GOOGLE, AMAZON, FACEBOOK etc\n",
    "    \n",
    "And these websites are created by a frontend and backend developers.\n",
    "    \n"
   ]
  },
  {
   "cell_type": "markdown",
   "id": "8ab3568e",
   "metadata": {},
   "source": [
    "# 3.Read name, address, email and phone number of a person through keyboard and print the details."
   ]
  },
  {
   "cell_type": "code",
   "execution_count": 29,
   "id": "3d806361",
   "metadata": {},
   "outputs": [
    {
     "name": "stdout",
     "output_type": "stream",
     "text": [
      "enter your name:Mohammad\n",
      "enter your addressVizag\n",
      "enter your email:mohammad786@gmail.com\n",
      "enter your number778899223\n",
      "My name is Mohammad and I'm from Vizag if you wanna talk to me then connect through this email ID mohammad786@gmail.com or else directly call to my number 778899223\n"
     ]
    }
   ],
   "source": [
    "name=input(\"enter your name:\")\n",
    "address=input(\"enter your address\")\n",
    "email=input(\"enter your email:\")\n",
    "phone_number=int(input(\"enter your number\"))\n",
    "bio_data=\"My name is {} and I'm from {} if you wanna talk to me then connect through this email ID {} or else directly call to my number {}\".format(name,address,email,phone_number)\n",
    "print(bio_data)"
   ]
  },
  {
   "cell_type": "markdown",
   "id": "3b4f2f5a",
   "metadata": {},
   "source": [
    "# 4.Write a program to detect character 's' in a string and replace with 'a' in a string"
   ]
  },
  {
   "cell_type": "code",
   "execution_count": 30,
   "id": "a2a6346f",
   "metadata": {},
   "outputs": [
    {
     "name": "stdout",
     "output_type": "stream",
     "text": [
      "enter the name:sasi\n"
     ]
    },
    {
     "data": {
      "text/plain": [
       "'aaai'"
      ]
     },
     "execution_count": 30,
     "metadata": {},
     "output_type": "execute_result"
    }
   ],
   "source": [
    "string=input(\"enter the name:\")\n",
    "string.replace(\"s\",\"a\")"
   ]
  },
  {
   "cell_type": "markdown",
   "id": "d547b622",
   "metadata": {},
   "source": [
    "# 5.Use a comparison operator to find out whether a given variable a is greater than b or not. take input from user"
   ]
  },
  {
   "cell_type": "code",
   "execution_count": 31,
   "id": "63c36526",
   "metadata": {},
   "outputs": [
    {
     "name": "stdout",
     "output_type": "stream",
     "text": [
      "enter a number1:5\n",
      "enter a number2:4\n",
      "a is greater than b\n"
     ]
    }
   ],
   "source": [
    "a=int(input(\"enter a number1:\"))\n",
    "b=int(input(\"enter a number2:\"))\n",
    "if a>b:\n",
    "    print(\"a is greater than b\")\n",
    "else:\n",
    "    print(\"b is greater than a\")"
   ]
  },
  {
   "cell_type": "markdown",
   "id": "5195064a",
   "metadata": {},
   "source": [
    "# 6.Write a Python program to find the average,sum,remainder of two numbers entered by the user."
   ]
  },
  {
   "cell_type": "code",
   "execution_count": 32,
   "id": "a591d3e1",
   "metadata": {},
   "outputs": [
    {
     "name": "stdout",
     "output_type": "stream",
     "text": [
      "enter a number1:8\n",
      "enter a number2:4\n",
      "sum= 12\n",
      "average= 6.0\n",
      "remainder= 0\n"
     ]
    }
   ],
   "source": [
    "a=int(input(\"enter a number1:\"))\n",
    "b=int(input(\"enter a number2:\"))\n",
    "print(\"sum=\",a+b)\n",
    "print(\"average=\",(a+b)/2)\n",
    "print(\"remainder=\",a%b)"
   ]
  },
  {
   "cell_type": "markdown",
   "id": "8dc4de2b",
   "metadata": {},
   "source": [
    "# 7.Write a Python program to explain the logical operators with an example\n",
    "\n",
    "1)and operator: returns true if both the statements are true.\n",
    "\n",
    "2)or operator : returns true if any one statement is true.\n",
    "\n",
    "3)not operator: return true if result is false and vice versa."
   ]
  },
  {
   "cell_type": "code",
   "execution_count": 34,
   "id": "1ba07b6a",
   "metadata": {},
   "outputs": [
    {
     "name": "stdout",
     "output_type": "stream",
     "text": [
      "enter a number1:6\n",
      "enter a number2:6\n",
      "Both the numbers are greater than 5\n"
     ]
    }
   ],
   "source": [
    "a=int(input(\"enter a number1:\"))\n",
    "b=int(input(\"enter a number2:\"))\n",
    "if a<=0 and b<=0:\n",
    "    print(\"Both a and b are less than or equal to zero\")\n",
    "elif a==1 or b==0:\n",
    "    print(\"Any one of number is equal to zero \")\n",
    "elif not(a>5 and b>5):\n",
    "    print(\"one of the number is not greater than 5\")\n",
    "else:\n",
    "    print(\"Both the numbers are greater than 5\")"
   ]
  },
  {
   "cell_type": "markdown",
   "id": "94ae06de",
   "metadata": {},
   "source": [
    "# 8.what are operators in python?write example for each operator\n",
    "\n",
    "operators are used to perform operation in between the operands.\n",
    "\n",
    "Types of operators:\n",
    "1)Arithmetic operator\n",
    "2)Assignment operator\n",
    "3)Comparision operator\n",
    "4)Identity operator\n",
    "5)Membership operator\n",
    "6)Bitwise opeartor\n",
    "7)Logical operator"
   ]
  },
  {
   "cell_type": "code",
   "execution_count": 35,
   "id": "20c8909f",
   "metadata": {},
   "outputs": [
    {
     "name": "stdout",
     "output_type": "stream",
     "text": [
      "enter a number1:6\n",
      "enter a number2:4\n",
      "Addition: 10\n",
      "Sub: 2\n",
      "mul: 24\n",
      "div: 1.5\n",
      "floor div: 1\n",
      "remainder: 2\n"
     ]
    }
   ],
   "source": [
    "#1)Arithmetic Operators:\n",
    "a=int(input(\"enter a number1:\"))\n",
    "b=int(input(\"enter a number2:\"))\n",
    "print(\"Addition:\",a+b)\n",
    "print(\"Sub:\",a-b)\n",
    "print(\"mul:\",a*b)\n",
    "print(\"div:\",a/b)\n",
    "print(\"floor div:\",a//b)\n",
    "print(\"remainder:\",a%b)"
   ]
  },
  {
   "cell_type": "code",
   "execution_count": 36,
   "id": "e3c631ad",
   "metadata": {},
   "outputs": [
    {
     "name": "stdout",
     "output_type": "stream",
     "text": [
      "8\n",
      "2\n",
      "15\n",
      "1.6666666666666667\n",
      "2\n",
      "1\n",
      "125\n",
      "1\n",
      "7\n",
      "6\n",
      "0\n",
      "40\n"
     ]
    }
   ],
   "source": [
    "#2)Assignment Operators:\n",
    "a=5\n",
    "a1=a+3\n",
    "print(a1)\n",
    "a2=a-3\n",
    "print(a2)\n",
    "a3=a*3\n",
    "print(a3)\n",
    "a4=a/3\n",
    "print(a4)\n",
    "a5=a%3\n",
    "print(a5)\n",
    "a6=a//3\n",
    "print(a6)\n",
    "a7=a**3\n",
    "print(a7)\n",
    "#3)Bitwise Operators:\n",
    "a8=a&3\n",
    "print(a8)\n",
    "a9=a|3\n",
    "print(a9)\n",
    "a10=a^3\n",
    "print(a10)\n",
    "a11=a>>3\n",
    "print(a11)\n",
    "a12=a<<3\n",
    "print(a12)"
   ]
  },
  {
   "cell_type": "code",
   "execution_count": 37,
   "id": "35cff406",
   "metadata": {},
   "outputs": [
    {
     "name": "stdout",
     "output_type": "stream",
     "text": [
      "enter number1:6\n",
      "enter number2:4\n",
      "a is greater than b\n"
     ]
    }
   ],
   "source": [
    "#4)comparision opeartors:\n",
    "a=int(input(\"enter number1:\"))\n",
    "b=int(input(\"enter number2:\"))\n",
    "if(a==b):\n",
    "    print(\"a is equal to b\")\n",
    "elif(a>b):\n",
    "    print(\"a is greater than b\")\n",
    "elif(a<b):\n",
    "    print(\"a is less than b\")\n",
    "elif(a>=5 and b>=5):\n",
    "    print(\"a is greater than equal to 5 \")\n",
    "elif(a<=5 or b==0):\n",
    "    print(\"b is less than equal to 5\")\n",
    "    \n",
    "    "
   ]
  },
  {
   "cell_type": "code",
   "execution_count": 1,
   "id": "85c1b6b3",
   "metadata": {},
   "outputs": [
    {
     "name": "stdout",
     "output_type": "stream",
     "text": [
      "True\n",
      "False\n",
      "True\n"
     ]
    }
   ],
   "source": [
    "#5)Identity operators:\n",
    "a=[1,2,3]\n",
    "b=[1,2,3]\n",
    "c=a\n",
    "print(a is c)\n",
    "print(a is b)\n",
    "print(a==b)\n",
    "\n"
   ]
  },
  {
   "cell_type": "code",
   "execution_count": 2,
   "id": "35a028e7",
   "metadata": {},
   "outputs": [
    {
     "name": "stdout",
     "output_type": "stream",
     "text": [
      "False\n",
      "True\n",
      "False\n"
     ]
    }
   ],
   "source": [
    "a=[1,2,3]\n",
    "b=[1,2,3]\n",
    "c=a\n",
    "print(a is not c)\n",
    "print(a is not b)\n",
    "print(a!=b)"
   ]
  },
  {
   "cell_type": "code",
   "execution_count": 10,
   "id": "03c272a9",
   "metadata": {},
   "outputs": [
    {
     "name": "stdout",
     "output_type": "stream",
     "text": [
      "True\n"
     ]
    }
   ],
   "source": [
    "#6)Membership opeartors:\n",
    "l1=[1,2,3,4]\n",
    "print(1 in l1)"
   ]
  },
  {
   "cell_type": "code",
   "execution_count": 11,
   "id": "44f9758f",
   "metadata": {},
   "outputs": [
    {
     "name": "stdout",
     "output_type": "stream",
     "text": [
      "False\n"
     ]
    }
   ],
   "source": [
    "l2=[1,2,3,4]\n",
    "print(1 not in l2)"
   ]
  },
  {
   "cell_type": "markdown",
   "id": "e92751b8",
   "metadata": {},
   "source": [
    "# 9.write and explain the difference between typecasting and type function with an example\n",
    "\n",
    "Typecasting: It is used to convert one datatype into another.\n",
    "    \n",
    "    There are types of typecasting:\n",
    "        \n",
    "        1.Implicit typecasting- converts one datatype into another automatically without any user\n",
    "        2.Explicit typecasting- converts one datatype into another based upon the opeartion required\n",
    "        \n",
    "type() function: It returns class type of the object.\n",
    "\n",
    "\n"
   ]
  },
  {
   "cell_type": "code",
   "execution_count": 15,
   "id": "9b0c3c18",
   "metadata": {},
   "outputs": [
    {
     "name": "stdout",
     "output_type": "stream",
     "text": [
      "<class 'int'>\n"
     ]
    }
   ],
   "source": [
    "a=7\n",
    "print(type(a))"
   ]
  },
  {
   "cell_type": "code",
   "execution_count": 14,
   "id": "b7f86a6b",
   "metadata": {},
   "outputs": [
    {
     "name": "stdout",
     "output_type": "stream",
     "text": [
      "<class 'float'>\n"
     ]
    }
   ],
   "source": [
    "b=7.0\n",
    "print(type(b))"
   ]
  },
  {
   "cell_type": "code",
   "execution_count": 17,
   "id": "eaa467b0",
   "metadata": {},
   "outputs": [
    {
     "name": "stdout",
     "output_type": "stream",
     "text": [
      "5.0\n",
      "<class 'float'>\n"
     ]
    }
   ],
   "source": [
    "a=5\n",
    "b=float(a)\n",
    "print(b)\n",
    "print(type(b))"
   ]
  },
  {
   "cell_type": "code",
   "execution_count": 18,
   "id": "83bdfb02",
   "metadata": {},
   "outputs": [
    {
     "name": "stdout",
     "output_type": "stream",
     "text": [
      "5\n",
      "<class 'int'>\n"
     ]
    }
   ],
   "source": [
    "a=5.0\n",
    "b=int(a)\n",
    "print(b)\n",
    "print(type(b))"
   ]
  },
  {
   "cell_type": "code",
   "execution_count": 19,
   "id": "3a26bb19",
   "metadata": {},
   "outputs": [
    {
     "name": "stdout",
     "output_type": "stream",
     "text": [
      "5\n",
      "<class 'str'>\n"
     ]
    }
   ],
   "source": [
    "a=5\n",
    "b=str(a)\n",
    "print(b)\n",
    "print(type(b))"
   ]
  },
  {
   "cell_type": "code",
   "execution_count": 20,
   "id": "c878fd85",
   "metadata": {},
   "outputs": [
    {
     "name": "stdout",
     "output_type": "stream",
     "text": [
      "5\n",
      "<class 'int'>\n"
     ]
    }
   ],
   "source": [
    "a=\"5\"\n",
    "b=int(a)\n",
    "print(b)\n",
    "print(type(b))"
   ]
  },
  {
   "cell_type": "code",
   "execution_count": 23,
   "id": "d6adf2a3",
   "metadata": {},
   "outputs": [
    {
     "name": "stdout",
     "output_type": "stream",
     "text": [
      "<class 'tuple'>\n",
      "<class 'list'>\n",
      "<class 'dict'>\n",
      "<class 'str'>\n",
      "<class 'int'>\n",
      "<class 'float'>\n"
     ]
    }
   ],
   "source": [
    "#type function:\n",
    "a=(\"bablu\",22,\"vizag\")\n",
    "b=[1,2,3,4]\n",
    "c={\"1\":\"bablu\",\"2\":22}\n",
    "d=\"Hii\"\n",
    "e=10\n",
    "f=10.0\n",
    "print(type(a))\n",
    "print(type(b))\n",
    "print(type(c))\n",
    "print(type(d))\n",
    "print(type(e))\n",
    "print(type(f))"
   ]
  },
  {
   "cell_type": "markdown",
   "id": "ebf5fa17",
   "metadata": {},
   "source": [
    "# 10.what is a variable in python?explain with it an example\n",
    "\n",
    "Variable: It is a container used to store the data.\n",
    "\n",
    "1.It should be start with an alphabet or an underscore\n",
    "\n",
    "2.It can be mixture of alphanumeric\n",
    "\n",
    "3.It should not start with numerics and also with the special symbols\n",
    "\n",
    "4:It is case sensitive"
   ]
  },
  {
   "cell_type": "code",
   "execution_count": 24,
   "id": "9b67c868",
   "metadata": {},
   "outputs": [
    {
     "name": "stdout",
     "output_type": "stream",
     "text": [
      "4\n"
     ]
    }
   ],
   "source": [
    "a=4\n",
    "print(a)"
   ]
  },
  {
   "cell_type": "code",
   "execution_count": 26,
   "id": "d721c498",
   "metadata": {},
   "outputs": [
    {
     "name": "stdout",
     "output_type": "stream",
     "text": [
      "5\n"
     ]
    }
   ],
   "source": [
    "_b=5\n",
    "print(_b)"
   ]
  },
  {
   "cell_type": "code",
   "execution_count": 27,
   "id": "d1b1fecc",
   "metadata": {},
   "outputs": [
    {
     "name": "stdout",
     "output_type": "stream",
     "text": [
      "2\n"
     ]
    }
   ],
   "source": [
    "b1=2\n",
    "print(b1)"
   ]
  },
  {
   "cell_type": "code",
   "execution_count": null,
   "id": "124077d9",
   "metadata": {},
   "outputs": [],
   "source": []
  }
 ],
 "metadata": {
  "kernelspec": {
   "display_name": "Python 3 (ipykernel)",
   "language": "python",
   "name": "python3"
  },
  "language_info": {
   "codemirror_mode": {
    "name": "ipython",
    "version": 3
   },
   "file_extension": ".py",
   "mimetype": "text/x-python",
   "name": "python",
   "nbconvert_exporter": "python",
   "pygments_lexer": "ipython3",
   "version": "3.9.13"
  }
 },
 "nbformat": 4,
 "nbformat_minor": 5
}
